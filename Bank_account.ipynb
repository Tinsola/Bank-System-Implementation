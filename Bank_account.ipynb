{
 "cells": [
  {
   "cell_type": "markdown",
   "metadata": {},
   "source": [
    "## Part 1: Bank Account Class\n",
    "\n",
    "Create a class called `BankAccount` to represent a basic bank account.\n",
    "\n",
    "1. **Attributes:**\n",
    "\n",
    "   - `account_number`: The unique identifier for the account.\n",
    "   - `balance`: The current balance of the account.\n",
    "   - `owner_name`: The name of the account holder.\n",
    "\n",
    "2. **Methods:**\n",
    "\n",
    "   - `deposit(amount)`: Add funds to the account.\n",
    "   - `withdraw(amount)`: Withdraw funds from the account."
   ]
  },
  {
   "cell_type": "code",
   "execution_count": 1,
   "metadata": {},
   "outputs": [
    {
     "name": "stdout",
     "output_type": "stream",
     "text": [
      "Current account balance: 0\n",
      "Account owner: Damien\n",
      "Account number: 123456789\n",
      "Transactions history\n",
      "Timestamp: 2024-05-27 09:46:58.733162\n",
      "Transaction type: Deposit\n",
      "Amount: 10000.9\n",
      "Timestamp: 2024-05-27 09:46:58.733197\n",
      "Transaction type: Withdrawl\n",
      "Amount: 1000.01\n",
      "Current account balance: 9000.89\n"
     ]
    }
   ],
   "source": [
    "from datetime import datetime as dt\n",
    "\n",
    "class BankAccount:\n",
    "    def __init__(self, account_number, owner_name):\n",
    "        self.account_number = account_number\n",
    "        self.balance = 0\n",
    "        self.owner_name = owner_name\n",
    "        self.transaction = []\n",
    "        \n",
    "    def deposit(self, amount):\n",
    "        self.balance += amount\n",
    "        self.log_transaction(amount , \"Deposit\")\n",
    "        \n",
    "    def withdraw(self, amount):\n",
    "        if self.balance >= amount:\n",
    "            self.balance -= amount\n",
    "            self.log_transaction(amount , \"Withdrawl\")\n",
    "        else:\n",
    "            print('Insufficient funds, take a smaller amount')\n",
    "            \n",
    "    def log_transaction(self, amount, transaction_type):\n",
    "        timestamp = dt.now()\n",
    "        self.transaction.append((timestamp, transaction_type, amount))\n",
    "        \n",
    "account = BankAccount('123456789', 'Damien')\n",
    "print('Current account balance:', account.balance)\n",
    "account.deposit(10000.90)\n",
    "account.withdraw(1000.01)\n",
    "\n",
    "print('Account owner:', account.owner_name)\n",
    "print('Account number:', account.account_number)\n",
    "\n",
    "print('Transactions history')\n",
    "for transaction in account.transaction:\n",
    "    print('Timestamp:', transaction[0])\n",
    "    print('Transaction type:', transaction[1])\n",
    "    print('Amount:', transaction[2])\n",
    "    \n",
    "print('Current account balance:', account.balance) "
   ]
  },
  {
   "cell_type": "markdown",
   "metadata": {},
   "source": [
    "## Part 2: Savings Account Class\n",
    "\n",
    "Create a subclass called `SavingsAccount` that inherits from `BankAccount`.\n",
    "\n",
    "3. **Additional Method:**\n",
    "   - `calculate_interest(rate)`: Calculate monthly interest on the balance based on the given interest rate."
   ]
  },
  {
   "cell_type": "code",
   "execution_count": 2,
   "id": "01HXRKGV1ZKD3J57G1VRQJKCGZ",
   "metadata": {},
   "outputs": [
    {
     "name": "stdout",
     "output_type": "stream",
     "text": [
      "Account owner: Damien\n",
      "Account number: 123456789\n",
      "Current account balance with interest: 10100.0\n"
     ]
    }
   ],
   "source": [
    "class SavingsAccount(BankAccount):\n",
    "    def calculate_interest(self, rate):\n",
    "        monthly = self.balance * (rate/100)/12\n",
    "        self.deposit(monthly)\n",
    "        \n",
    "saving = SavingsAccount('123456789', 'Damien')\n",
    "saving.deposit(10000)\n",
    "saving.calculate_interest(1)\n",
    "\n",
    "print('Account owner:', saving.owner_name)\n",
    "print('Account number:', saving.account_number)\n",
    "print('Current account balance with interest:', round((saving.balance),2))\n",
    "\n"
   ]
  },
  {
   "cell_type": "markdown",
   "metadata": {},
   "source": [
    "## Part 3: Customer Class\n",
    "\n",
    "Create a class called `Customer` to represent a bank customer.\n",
    "\n",
    "4. **Attributes:**\n",
    "\n",
    "   - `customer_id`: The unique identifier for the customer.\n",
    "   - `name`: The name of the customer.\n",
    "   - `accounts`: A list to store the customer's accounts.\n",
    "\n",
    "5. **Method:**\n",
    "\n",
    "   - `add_account(account)`: Add a new account to the customer's list."
   ]
  },
  {
   "cell_type": "code",
   "execution_count": 20,
   "id": "01HXRKZE20HGCZWMX880FWXD59",
   "metadata": {},
   "outputs": [
    {
     "name": "stdout",
     "output_type": "stream",
     "text": [
      "Customer ID: D001\n",
      "Customer Name: Damien\n",
      "Customer's Accounts: ['123456789', '1234567999']\n"
     ]
    }
   ],
   "source": [
    "class Customer:\n",
    "    def __init__(self, customer_id, name):\n",
    "        self.customer_id = customer_id\n",
    "        self.name = name\n",
    "        self.accounts = []\n",
    "        \n",
    "    def add_account(self, account):\n",
    "        self.accounts.append(account)\n",
    "        \n",
    "customer = Customer(\"D001\", \"Damien\")\n",
    "account1 = BankAccount('123456789', 'Damien')\n",
    "account2 = SavingsAccount('1234567999', 'Damien')\n",
    "customer.add_account(account1)\n",
    "customer.add_account(account2)\n",
    "print(\"Customer ID:\", customer.customer_id)\n",
    "print(\"Customer Name:\", customer.name)\n",
    "print(\"Customer's Accounts:\", [acc.account_number for acc in customer.accounts])"
   ]
  },
  {
   "cell_type": "markdown",
   "metadata": {},
   "source": [
    "## Part 4: Bank Class\n",
    "\n",
    "Create a class called `Bank` to represent a bank system.\n",
    "\n",
    "6. **Attributes:**\n",
    "\n",
    "   - `customers`: A list to store the bank's customers.\n",
    "\n",
    "7. **Methods:**\n",
    "\n",
    "   - `add_customer(customer)`: Add a new customer to the bank's list.\n",
    "   - `find_customer_by_id(customer_id)`: Find a customer by their ID."
   ]
  },
  {
   "cell_type": "code",
   "execution_count": 31,
   "id": "01HXRMC1VCCXRJQS0JD2G0TRJX",
   "metadata": {},
   "outputs": [
    {
     "name": "stdout",
     "output_type": "stream",
     "text": [
      "Found Customer Name: Damien\n",
      "Found Customer Name: Not found\n"
     ]
    }
   ],
   "source": [
    "class Bank:\n",
    "    def __init__(self):\n",
    "        self.customers = []\n",
    "        \n",
    "    def add_customer(self, customer):\n",
    "        self.customers.append(customer)\n",
    "        \n",
    "    def find_customer_by_id(self, customer_id):\n",
    "        for customer in self.customers:\n",
    "            if customer.customer_id == customer_id:\n",
    "                return customer\n",
    "        return None\n",
    "    \n",
    "bank = Bank()\n",
    "bank.add_customer(customer)\n",
    "found_customer = bank.find_customer_by_id(\"D001\")\n",
    "found_customer2 = bank.find_customer_by_id(\"C001\")\n",
    "print(\"Found Customer Name:\", found_customer.name if found_customer else \"Not found\")\n",
    "print(\"Found Customer Name:\", found_customer.name if found_customer2 else \"Not found\")"
   ]
  },
  {
   "cell_type": "markdown",
   "metadata": {},
   "source": [
    "## Part 5: Transaction Logging\n",
    "\n",
    "Extend the `BankAccount` class to log all transactions. (Implemented in Part 1)\n",
    "\n",
    "8. **Additional Method:**\n",
    "   - `log_transaction(amount, transaction_type)`: Log each transaction along with a timestamp."
   ]
  }
 ],
 "metadata": {
  "kernelspec": {
   "display_name": "Python 3",
   "language": "python",
   "name": "python3"
  },
  "language_info": {
   "codemirror_mode": {
    "name": "ipython",
    "version": 3
   },
   "file_extension": ".py",
   "mimetype": "text/x-python",
   "name": "python",
   "nbconvert_exporter": "python",
   "pygments_lexer": "ipython3",
   "version": "3.10.12"
  }
 },
 "nbformat": 4,
 "nbformat_minor": 2
}
